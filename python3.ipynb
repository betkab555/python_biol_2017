{
 "cells": [
  {
   "cell_type": "code",
   "execution_count": 70,
   "metadata": {
    "collapsed": true
   },
   "outputs": [],
   "source": [
    "def counting_letters(word):\n",
    "    ascii_letters = 'abcdefghijklmnopqrstuvwxyzABCDEFGHIJKLMNOPQRSTUVWXYZľščťžýáíéúôäňďěř'\n",
    "    digits = '0123456789'\n",
    "    punctuation = '!\"#$%&\\'()*+,-./:;<=>?@[\\\\]^_`{|}~ '\n",
    "\n",
    "    pismena = 0\n",
    "    znaky = 0\n",
    "    cisla = 0\n",
    "    for a in word:\n",
    "        if a in ascii_letters:\n",
    "            pismena += 1\n",
    "        if a in digits:\n",
    "            cisla += 1\n",
    "        if a in punctuation:\n",
    "            znaky += 1\n",
    "    print ('pocet pismen',pismena)\n",
    "    print ('pocet cisel',cisla)\n",
    "    print ('pocet znakov',znaky)\n",
    "        \n",
    "\n",
    "    \n"
   ]
  },
  {
   "cell_type": "code",
   "execution_count": 71,
   "metadata": {},
   "outputs": [
    {
     "name": "stdout",
     "output_type": "stream",
     "text": [
      "pocet pismen 52\n",
      "pocet cisel 3\n",
      "pocet znakov 19\n"
     ]
    }
   ],
   "source": [
    "counting_letters('Král řekl Honzovi: \"Ta saň má 7 hlav! Zabij ji a dostaneš 1/2 království.\"')"
   ]
  },
  {
   "cell_type": "code",
   "execution_count": 17,
   "metadata": {},
   "outputs": [],
   "source": [
    "def cat_age(years, months):\n",
    "    vek = 0\n",
    "    if years == 0:\n",
    "        vek += months*(18/12)\n",
    "    if years == 1:\n",
    "        vek += 18 + months * (7/12)\n",
    "    if years >= 2:\n",
    "        vek += 18 + 7 + ((years - 2)*5) + months * (5/12)\n",
    "    \n",
    "    \n",
    "    print('ludsky vek macky je ', vek)\n",
    "        "
   ]
  },
  {
   "cell_type": "code",
   "execution_count": 22,
   "metadata": {},
   "outputs": [
    {
     "name": "stdout",
     "output_type": "stream",
     "text": [
      "ludsky vek macky je  7.5\n"
     ]
    }
   ],
   "source": [
    "cat_age(0,5)"
   ]
  },
  {
   "cell_type": "code",
   "execution_count": null,
   "metadata": {
    "collapsed": true
   },
   "outputs": [],
   "source": []
  }
 ],
 "metadata": {
  "kernelspec": {
   "display_name": "Python 3",
   "language": "python",
   "name": "python3"
  },
  "language_info": {
   "codemirror_mode": {
    "name": "ipython",
    "version": 3
   },
   "file_extension": ".py",
   "mimetype": "text/x-python",
   "name": "python",
   "nbconvert_exporter": "python",
   "pygments_lexer": "ipython3",
   "version": "3.6.1"
  }
 },
 "nbformat": 4,
 "nbformat_minor": 2
}
