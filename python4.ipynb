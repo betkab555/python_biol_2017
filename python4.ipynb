{
 "cells": [
  {
   "cell_type": "code",
   "execution_count": 39,
   "metadata": {},
   "outputs": [
    {
     "data": {
      "text/plain": [
       "0.3"
      ]
     },
     "execution_count": 39,
     "metadata": {},
     "output_type": "execute_result"
    }
   ],
   "source": [
    "def nucleotide_percentage(seq, nucleotide):\n",
    "    percentage = seq.count(nucleotide)/len(seq)\n",
    "        \n",
    "        \n",
    "    return  percentage\n",
    "assert nucleotide_percentage('AAAAACCCCCGGGGGTTTTT', 'A') == 0.25\n",
    "assert nucleotide_percentage('CCCCCCCCC','C') == 1\n",
    "\n",
    "nucleotide_percentage('ACTGAATGCT','A')"
   ]
  },
  {
   "cell_type": "code",
   "execution_count": 40,
   "metadata": {},
   "outputs": [
    {
     "data": {
      "text/plain": [
       "{'A': 0.3, 'C': 0.2, 'G': 0.2, 'T': 0.3}"
      ]
     },
     "execution_count": 40,
     "metadata": {},
     "output_type": "execute_result"
    }
   ],
   "source": [
    "def all_nucleotide_percentage(seq):\n",
    "    freqs_dict = {}\n",
    "    percentage_A = nucleotide_percentage(seq,'A')\n",
    "    percentage_C = nucleotide_percentage(seq,'C')\n",
    "    percentage_G = nucleotide_percentage(seq,'G')\n",
    "    percentage_T = nucleotide_percentage(seq,'T')\n",
    "    freqs_dict['A'] = percentage_A\n",
    "    freqs_dict['C'] = percentage_C\n",
    "    freqs_dict['G'] = percentage_G\n",
    "    freqs_dict['T'] = percentage_T\n",
    "\n",
    "    return freqs_dict\n",
    "assert all_nucleotide_percentage('AAAAACCCCCGGGGGTTTTT') == {'A': 0.25 ,'C':0.25 ,'G':0.25 ,'T':0.25}, 'PERCENTA NESEDIA'.format(all_nucleotide_percentage('AAAAACCCCCGGGGGTTTTT'))\n",
    "assert all_nucleotide_percentage('TTTTTTGGGGGG') == {'A': 0 ,'C':0 ,'G':0.5 ,'T':0.5}, 'PERCENTA NESEDIA'.format(all_nucleotide_percentage('AAAAACCCCCGGGGGTTTTT'))\n",
    "\n",
    "all_nucleotide_percentage('ACTGAATGCT')\n",
    "    "
   ]
  },
  {
   "cell_type": "code",
   "execution_count": null,
   "metadata": {
    "collapsed": true
   },
   "outputs": [],
   "source": []
  }
 ],
 "metadata": {
  "kernelspec": {
   "display_name": "Python 3",
   "language": "python",
   "name": "python3"
  },
  "language_info": {
   "codemirror_mode": {
    "name": "ipython",
    "version": 3
   },
   "file_extension": ".py",
   "mimetype": "text/x-python",
   "name": "python",
   "nbconvert_exporter": "python",
   "pygments_lexer": "ipython3",
   "version": "3.6.1"
  }
 },
 "nbformat": 4,
 "nbformat_minor": 2
}
